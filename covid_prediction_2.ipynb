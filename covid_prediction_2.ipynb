{
  "nbformat": 4,
  "nbformat_minor": 0,
  "metadata": {
    "colab": {
      "name": "covid prediction 2.ipynb",
      "provenance": []
    },
    "kernelspec": {
      "name": "python3",
      "display_name": "Python 3"
    },
    "language_info": {
      "name": "python"
    }
  },
  "cells": [
    {
      "cell_type": "code",
      "source": [
        "import pandas as pd\n",
        "import numpy as np\n",
        "import matplotlib.pyplot as plt\n",
        "pd.read_csv('/covid data/data.csv')"
      ],
      "metadata": {
        "id": "xZu9-wuGyjf1",
        "colab": {
          "base_uri": "https://localhost:8080/",
          "height": 424
        },
        "outputId": "bab855ad-7b6b-497a-b268-83e6c5bd1dee"
      },
      "execution_count": null,
      "outputs": [
        {
          "output_type": "execute_result",
          "data": {
            "text/html": [
              "\n",
              "  <div id=\"df-01686e59-adde-4b60-8fa6-6c2a4c7605be\">\n",
              "    <div class=\"colab-df-container\">\n",
              "      <div>\n",
              "<style scoped>\n",
              "    .dataframe tbody tr th:only-of-type {\n",
              "        vertical-align: middle;\n",
              "    }\n",
              "\n",
              "    .dataframe tbody tr th {\n",
              "        vertical-align: top;\n",
              "    }\n",
              "\n",
              "    .dataframe thead th {\n",
              "        text-align: right;\n",
              "    }\n",
              "</style>\n",
              "<table border=\"1\" class=\"dataframe\">\n",
              "  <thead>\n",
              "    <tr style=\"text-align: right;\">\n",
              "      <th></th>\n",
              "      <th>dateRep</th>\n",
              "      <th>day</th>\n",
              "      <th>month</th>\n",
              "      <th>year</th>\n",
              "      <th>cases</th>\n",
              "      <th>deaths</th>\n",
              "      <th>countriesAndTerritories</th>\n",
              "      <th>geoId</th>\n",
              "      <th>countryterritoryCode</th>\n",
              "      <th>popData2019</th>\n",
              "      <th>continentExp</th>\n",
              "      <th>Cumulative_number_for_14_days_of_COVID-19_cases_per_100000</th>\n",
              "    </tr>\n",
              "  </thead>\n",
              "  <tbody>\n",
              "    <tr>\n",
              "      <th>0</th>\n",
              "      <td>14-12-2020</td>\n",
              "      <td>14</td>\n",
              "      <td>12</td>\n",
              "      <td>2020</td>\n",
              "      <td>746</td>\n",
              "      <td>6</td>\n",
              "      <td>Afghanistan</td>\n",
              "      <td>AF</td>\n",
              "      <td>AFG</td>\n",
              "      <td>38041757</td>\n",
              "      <td>Asia</td>\n",
              "      <td>9.013779</td>\n",
              "    </tr>\n",
              "    <tr>\n",
              "      <th>1</th>\n",
              "      <td>13-12-2020</td>\n",
              "      <td>13</td>\n",
              "      <td>12</td>\n",
              "      <td>2020</td>\n",
              "      <td>298</td>\n",
              "      <td>9</td>\n",
              "      <td>Afghanistan</td>\n",
              "      <td>AF</td>\n",
              "      <td>AFG</td>\n",
              "      <td>38041757</td>\n",
              "      <td>Asia</td>\n",
              "      <td>7.052776</td>\n",
              "    </tr>\n",
              "    <tr>\n",
              "      <th>2</th>\n",
              "      <td>12-12-2020</td>\n",
              "      <td>12</td>\n",
              "      <td>12</td>\n",
              "      <td>2020</td>\n",
              "      <td>113</td>\n",
              "      <td>11</td>\n",
              "      <td>Afghanistan</td>\n",
              "      <td>AF</td>\n",
              "      <td>AFG</td>\n",
              "      <td>38041757</td>\n",
              "      <td>Asia</td>\n",
              "      <td>6.868768</td>\n",
              "    </tr>\n",
              "    <tr>\n",
              "      <th>3</th>\n",
              "      <td>11-12-2020</td>\n",
              "      <td>11</td>\n",
              "      <td>12</td>\n",
              "      <td>2020</td>\n",
              "      <td>63</td>\n",
              "      <td>10</td>\n",
              "      <td>Afghanistan</td>\n",
              "      <td>AF</td>\n",
              "      <td>AFG</td>\n",
              "      <td>38041757</td>\n",
              "      <td>Asia</td>\n",
              "      <td>7.134266</td>\n",
              "    </tr>\n",
              "    <tr>\n",
              "      <th>4</th>\n",
              "      <td>10-12-2020</td>\n",
              "      <td>10</td>\n",
              "      <td>12</td>\n",
              "      <td>2020</td>\n",
              "      <td>202</td>\n",
              "      <td>16</td>\n",
              "      <td>Afghanistan</td>\n",
              "      <td>AF</td>\n",
              "      <td>AFG</td>\n",
              "      <td>38041757</td>\n",
              "      <td>Asia</td>\n",
              "      <td>6.968658</td>\n",
              "    </tr>\n",
              "    <tr>\n",
              "      <th>...</th>\n",
              "      <td>...</td>\n",
              "      <td>...</td>\n",
              "      <td>...</td>\n",
              "      <td>...</td>\n",
              "      <td>...</td>\n",
              "      <td>...</td>\n",
              "      <td>...</td>\n",
              "      <td>...</td>\n",
              "      <td>...</td>\n",
              "      <td>...</td>\n",
              "      <td>...</td>\n",
              "      <td>...</td>\n",
              "    </tr>\n",
              "    <tr>\n",
              "      <th>547</th>\n",
              "      <td>26-03-2020</td>\n",
              "      <td>26</td>\n",
              "      <td>3</td>\n",
              "      <td>2020</td>\n",
              "      <td>23</td>\n",
              "      <td>0</td>\n",
              "      <td>Albania</td>\n",
              "      <td>AL</td>\n",
              "      <td>ALB</td>\n",
              "      <td>2862427</td>\n",
              "      <td>Europe</td>\n",
              "      <td>4.716277</td>\n",
              "    </tr>\n",
              "    <tr>\n",
              "      <th>548</th>\n",
              "      <td>25-03-2020</td>\n",
              "      <td>25</td>\n",
              "      <td>3</td>\n",
              "      <td>2020</td>\n",
              "      <td>23</td>\n",
              "      <td>1</td>\n",
              "      <td>Albania</td>\n",
              "      <td>AL</td>\n",
              "      <td>ALB</td>\n",
              "      <td>2862427</td>\n",
              "      <td>Europe</td>\n",
              "      <td>3.947699</td>\n",
              "    </tr>\n",
              "    <tr>\n",
              "      <th>549</th>\n",
              "      <td>24-03-2020</td>\n",
              "      <td>24</td>\n",
              "      <td>3</td>\n",
              "      <td>2020</td>\n",
              "      <td>11</td>\n",
              "      <td>2</td>\n",
              "      <td>Albania</td>\n",
              "      <td>AL</td>\n",
              "      <td>ALB</td>\n",
              "      <td>2862427</td>\n",
              "      <td>Europe</td>\n",
              "      <td>3.283927</td>\n",
              "    </tr>\n",
              "    <tr>\n",
              "      <th>550</th>\n",
              "      <td>23-03-2020</td>\n",
              "      <td>23</td>\n",
              "      <td>3</td>\n",
              "      <td>2020</td>\n",
              "      <td>13</td>\n",
              "      <td>0</td>\n",
              "      <td>Albania</td>\n",
              "      <td>AL</td>\n",
              "      <td>ALB</td>\n",
              "      <td>2862427</td>\n",
              "      <td>Europe</td>\n",
              "      <td>3.039379</td>\n",
              "    </tr>\n",
              "    <tr>\n",
              "      <th>551</th>\n",
              "      <td>22-03-2020</td>\n",
              "      <td>22</td>\n",
              "      <td>3</td>\n",
              "      <td>2020</td>\n",
              "      <td>6</td>\n",
              "      <td>0</td>\n",
              "      <td>Albania</td>\n",
              "      <td>AL</td>\n",
              "      <td>ALB</td>\n",
              "      <td>2862427</td>\n",
              "      <td>Europe</td>\n",
              "      <td>2.655090</td>\n",
              "    </tr>\n",
              "  </tbody>\n",
              "</table>\n",
              "<p>552 rows × 12 columns</p>\n",
              "</div>\n",
              "      <button class=\"colab-df-convert\" onclick=\"convertToInteractive('df-01686e59-adde-4b60-8fa6-6c2a4c7605be')\"\n",
              "              title=\"Convert this dataframe to an interactive table.\"\n",
              "              style=\"display:none;\">\n",
              "        \n",
              "  <svg xmlns=\"http://www.w3.org/2000/svg\" height=\"24px\"viewBox=\"0 0 24 24\"\n",
              "       width=\"24px\">\n",
              "    <path d=\"M0 0h24v24H0V0z\" fill=\"none\"/>\n",
              "    <path d=\"M18.56 5.44l.94 2.06.94-2.06 2.06-.94-2.06-.94-.94-2.06-.94 2.06-2.06.94zm-11 1L8.5 8.5l.94-2.06 2.06-.94-2.06-.94L8.5 2.5l-.94 2.06-2.06.94zm10 10l.94 2.06.94-2.06 2.06-.94-2.06-.94-.94-2.06-.94 2.06-2.06.94z\"/><path d=\"M17.41 7.96l-1.37-1.37c-.4-.4-.92-.59-1.43-.59-.52 0-1.04.2-1.43.59L10.3 9.45l-7.72 7.72c-.78.78-.78 2.05 0 2.83L4 21.41c.39.39.9.59 1.41.59.51 0 1.02-.2 1.41-.59l7.78-7.78 2.81-2.81c.8-.78.8-2.07 0-2.86zM5.41 20L4 18.59l7.72-7.72 1.47 1.35L5.41 20z\"/>\n",
              "  </svg>\n",
              "      </button>\n",
              "      \n",
              "  <style>\n",
              "    .colab-df-container {\n",
              "      display:flex;\n",
              "      flex-wrap:wrap;\n",
              "      gap: 12px;\n",
              "    }\n",
              "\n",
              "    .colab-df-convert {\n",
              "      background-color: #E8F0FE;\n",
              "      border: none;\n",
              "      border-radius: 50%;\n",
              "      cursor: pointer;\n",
              "      display: none;\n",
              "      fill: #1967D2;\n",
              "      height: 32px;\n",
              "      padding: 0 0 0 0;\n",
              "      width: 32px;\n",
              "    }\n",
              "\n",
              "    .colab-df-convert:hover {\n",
              "      background-color: #E2EBFA;\n",
              "      box-shadow: 0px 1px 2px rgba(60, 64, 67, 0.3), 0px 1px 3px 1px rgba(60, 64, 67, 0.15);\n",
              "      fill: #174EA6;\n",
              "    }\n",
              "\n",
              "    [theme=dark] .colab-df-convert {\n",
              "      background-color: #3B4455;\n",
              "      fill: #D2E3FC;\n",
              "    }\n",
              "\n",
              "    [theme=dark] .colab-df-convert:hover {\n",
              "      background-color: #434B5C;\n",
              "      box-shadow: 0px 1px 3px 1px rgba(0, 0, 0, 0.15);\n",
              "      filter: drop-shadow(0px 1px 2px rgba(0, 0, 0, 0.3));\n",
              "      fill: #FFFFFF;\n",
              "    }\n",
              "  </style>\n",
              "\n",
              "      <script>\n",
              "        const buttonEl =\n",
              "          document.querySelector('#df-01686e59-adde-4b60-8fa6-6c2a4c7605be button.colab-df-convert');\n",
              "        buttonEl.style.display =\n",
              "          google.colab.kernel.accessAllowed ? 'block' : 'none';\n",
              "\n",
              "        async function convertToInteractive(key) {\n",
              "          const element = document.querySelector('#df-01686e59-adde-4b60-8fa6-6c2a4c7605be');\n",
              "          const dataTable =\n",
              "            await google.colab.kernel.invokeFunction('convertToInteractive',\n",
              "                                                     [key], {});\n",
              "          if (!dataTable) return;\n",
              "\n",
              "          const docLinkHtml = 'Like what you see? Visit the ' +\n",
              "            '<a target=\"_blank\" href=https://colab.research.google.com/notebooks/data_table.ipynb>data table notebook</a>'\n",
              "            + ' to learn more about interactive tables.';\n",
              "          element.innerHTML = '';\n",
              "          dataTable['output_type'] = 'display_data';\n",
              "          await google.colab.output.renderOutput(dataTable, element);\n",
              "          const docLink = document.createElement('div');\n",
              "          docLink.innerHTML = docLinkHtml;\n",
              "          element.appendChild(docLink);\n",
              "        }\n",
              "      </script>\n",
              "    </div>\n",
              "  </div>\n",
              "  "
            ],
            "text/plain": [
              "        dateRep  ...  Cumulative_number_for_14_days_of_COVID-19_cases_per_100000\n",
              "0    14-12-2020  ...                                           9.013779         \n",
              "1    13-12-2020  ...                                           7.052776         \n",
              "2    12-12-2020  ...                                           6.868768         \n",
              "3    11-12-2020  ...                                           7.134266         \n",
              "4    10-12-2020  ...                                           6.968658         \n",
              "..          ...  ...                                                ...         \n",
              "547  26-03-2020  ...                                           4.716277         \n",
              "548  25-03-2020  ...                                           3.947699         \n",
              "549  24-03-2020  ...                                           3.283927         \n",
              "550  23-03-2020  ...                                           3.039379         \n",
              "551  22-03-2020  ...                                           2.655090         \n",
              "\n",
              "[552 rows x 12 columns]"
            ]
          },
          "metadata": {},
          "execution_count": 28
        }
      ]
    },
    {
      "cell_type": "code",
      "source": [
        "sets=pd.read_csv('/covid data/data.csv')\n",
        "from sklearn import preprocessing\n",
        "a=preprocessing.LabelEncoder()\n",
        "sets['countriesAndTerritories']=a.fit_transform(sets['countriesAndTerritories'])\n",
        "sets['countriesAndTerritories']"
      ],
      "metadata": {
        "colab": {
          "base_uri": "https://localhost:8080/"
        },
        "id": "zexJgm9P0EVX",
        "outputId": "f5d1d4a2-9012-4ea4-8ba0-cc725ce2ca35"
      },
      "execution_count": null,
      "outputs": [
        {
          "output_type": "execute_result",
          "data": {
            "text/plain": [
              "0      0\n",
              "1      0\n",
              "2      0\n",
              "3      0\n",
              "4      0\n",
              "      ..\n",
              "547    1\n",
              "548    1\n",
              "549    1\n",
              "550    1\n",
              "551    1\n",
              "Name: countriesAndTerritories, Length: 552, dtype: int64"
            ]
          },
          "metadata": {},
          "execution_count": 20
        }
      ]
    },
    {
      "cell_type": "code",
      "source": [
        "sets.plot(x='countriesAndTerritories',y='cases',style='o')\n",
        "plt.title('Covid prediction')\n",
        "plt.xlabel('countries')\n",
        "plt.ylabel('Deaths')\n",
        "plt.show()"
      ],
      "metadata": {
        "colab": {
          "base_uri": "https://localhost:8080/",
          "height": 295
        },
        "id": "YEX8nA9v3YRX",
        "outputId": "2ec6a2cf-7816-41f0-cfb6-52bc53cbe0da"
      },
      "execution_count": null,
      "outputs": [
        {
          "output_type": "display_data",
          "data": {
            "image/png": "[encoded data removed]",
            "text/plain": [
              "<Figure size 432x288 with 1 Axes>"
            ]
          },
          "metadata": {
            "needs_background": "light"
          }
        }
      ]
    },
    {
      "cell_type": "code",
      "source": [
        "x=sets.loc[:,[\"countriesAndTerritories\"]]\n",
        "y=sets.loc[:,[\"deaths\"]]\n",
        "print(x)\n",
        "print(y)"
      ],
      "metadata": {
        "colab": {
          "base_uri": "https://localhost:8080/"
        },
        "id": "5uATnZK_4piJ",
        "outputId": "ede96177-5569-4f16-f0af-aa89c9cf9a75"
      },
      "execution_count": null,
      "outputs": [
        {
          "output_type": "stream",
          "name": "stdout",
          "text": [
            "     countriesAndTerritories\n",
            "0                          0\n",
            "1                          0\n",
            "2                          0\n",
            "3                          0\n",
            "4                          0\n",
            "..                       ...\n",
            "547                        1\n",
            "548                        1\n",
            "549                        1\n",
            "550                        1\n",
            "551                        1\n",
            "\n",
            "[552 rows x 1 columns]\n",
            "     deaths\n",
            "0         6\n",
            "1         9\n",
            "2        11\n",
            "3        10\n",
            "4        16\n",
            "..      ...\n",
            "547       0\n",
            "548       1\n",
            "549       2\n",
            "550       0\n",
            "551       0\n",
            "\n",
            "[552 rows x 1 columns]\n"
          ]
        }
      ]
    },
    {
      "cell_type": "code",
      "source": [
        "from sklearn.model_selection import train_test_split\n",
        "x_train,x_test,y_train,y_test=train_test_split(x,y,test_size=0.2,random_state=0)\n",
        "from sklearn.linear_model import LinearRegression\n",
        "regressor=LinearRegression()\n",
        "regressor.fit(x_train,y_train)\n"
      ],
      "metadata": {
        "colab": {
          "base_uri": "https://localhost:8080/"
        },
        "id": "SlzybIqr3sWn",
        "outputId": "30913c86-9631-401d-cb41-e6d325721c3a"
      },
      "execution_count": null,
      "outputs": [
        {
          "output_type": "execute_result",
          "data": {
            "text/plain": [
              "LinearRegression()"
            ]
          },
          "metadata": {},
          "execution_count": 23
        }
      ]
    },
    {
      "cell_type": "code",
      "source": [
        "print(regressor.intercept_)"
      ],
      "metadata": {
        "colab": {
          "base_uri": "https://localhost:8080/"
        },
        "id": "sv7GI_jV5K8g",
        "outputId": "3e6bd222-a3cb-473e-c681-e05c699bf52d"
      },
      "execution_count": null,
      "outputs": [
        {
          "output_type": "stream",
          "name": "stdout",
          "text": [
            "[7.24017467]\n"
          ]
        }
      ]
    },
    {
      "cell_type": "code",
      "source": [
        "y_pred=regressor.predict(x_test)\n",
        "y_pred"
      ],
      "metadata": {
        "colab": {
          "base_uri": "https://localhost:8080/"
        },
        "id": "QQSUBxAE5AIe",
        "outputId": "4dc570c9-6bb7-42c8-c509-f6b477c3abbe"
      },
      "execution_count": null,
      "outputs": [
        {
          "output_type": "execute_result",
          "data": {
            "text/plain": [
              "array([[7.24017467],\n",
              "       [3.85377358],\n",
              "       [7.24017467],\n",
              "       [7.24017467],\n",
              "       [7.24017467],\n",
              "       [7.24017467],\n",
              "       [3.85377358],\n",
              "       [7.24017467],\n",
              "       [3.85377358],\n",
              "       [3.85377358],\n",
              "       [7.24017467],\n",
              "       [3.85377358],\n",
              "       [7.24017467],\n",
              "       [7.24017467],\n",
              "       [3.85377358],\n",
              "       [3.85377358],\n",
              "       [3.85377358],\n",
              "       [7.24017467],\n",
              "       [3.85377358],\n",
              "       [3.85377358],\n",
              "       [3.85377358],\n",
              "       [3.85377358],\n",
              "       [3.85377358],\n",
              "       [3.85377358],\n",
              "       [7.24017467],\n",
              "       [3.85377358],\n",
              "       [7.24017467],\n",
              "       [7.24017467],\n",
              "       [7.24017467],\n",
              "       [7.24017467],\n",
              "       [3.85377358],\n",
              "       [3.85377358],\n",
              "       [7.24017467],\n",
              "       [3.85377358],\n",
              "       [7.24017467],\n",
              "       [3.85377358],\n",
              "       [7.24017467],\n",
              "       [3.85377358],\n",
              "       [7.24017467],\n",
              "       [7.24017467],\n",
              "       [3.85377358],\n",
              "       [3.85377358],\n",
              "       [7.24017467],\n",
              "       [3.85377358],\n",
              "       [7.24017467],\n",
              "       [3.85377358],\n",
              "       [3.85377358],\n",
              "       [7.24017467],\n",
              "       [7.24017467],\n",
              "       [3.85377358],\n",
              "       [3.85377358],\n",
              "       [7.24017467],\n",
              "       [3.85377358],\n",
              "       [3.85377358],\n",
              "       [3.85377358],\n",
              "       [3.85377358],\n",
              "       [3.85377358],\n",
              "       [7.24017467],\n",
              "       [3.85377358],\n",
              "       [7.24017467],\n",
              "       [7.24017467],\n",
              "       [3.85377358],\n",
              "       [7.24017467],\n",
              "       [7.24017467],\n",
              "       [3.85377358],\n",
              "       [7.24017467],\n",
              "       [7.24017467],\n",
              "       [7.24017467],\n",
              "       [7.24017467],\n",
              "       [7.24017467],\n",
              "       [7.24017467],\n",
              "       [7.24017467],\n",
              "       [3.85377358],\n",
              "       [7.24017467],\n",
              "       [7.24017467],\n",
              "       [3.85377358],\n",
              "       [7.24017467],\n",
              "       [7.24017467],\n",
              "       [7.24017467],\n",
              "       [3.85377358],\n",
              "       [3.85377358],\n",
              "       [3.85377358],\n",
              "       [3.85377358],\n",
              "       [3.85377358],\n",
              "       [7.24017467],\n",
              "       [3.85377358],\n",
              "       [7.24017467],\n",
              "       [3.85377358],\n",
              "       [3.85377358],\n",
              "       [3.85377358],\n",
              "       [7.24017467],\n",
              "       [3.85377358],\n",
              "       [7.24017467],\n",
              "       [3.85377358],\n",
              "       [3.85377358],\n",
              "       [7.24017467],\n",
              "       [7.24017467],\n",
              "       [3.85377358],\n",
              "       [7.24017467],\n",
              "       [7.24017467],\n",
              "       [7.24017467],\n",
              "       [7.24017467],\n",
              "       [3.85377358],\n",
              "       [7.24017467],\n",
              "       [7.24017467],\n",
              "       [3.85377358],\n",
              "       [3.85377358],\n",
              "       [3.85377358],\n",
              "       [7.24017467],\n",
              "       [3.85377358],\n",
              "       [3.85377358]])"
            ]
          },
          "metadata": {},
          "execution_count": 25
        }
      ]
    },
    {
      "cell_type": "code",
      "source": [
        "df=pd.DataFrame({'Actual':[y_test],'Predicted':[y_pred]})\n",
        "print(df)\n",
        "plt.plot(y_test,y_pred,color='b')\n",
        "plt.title(\"covid prediction\")\n",
        "plt.xlabel(\"Countries\")\n",
        "plt.ylabel(\"Cases\")\n",
        "plt.show()"
      ],
      "metadata": {
        "id": "tH3R5k5r6XRh",
        "outputId": "1efb8d5c-a720-40f4-b7b0-7ec36b790e69",
        "colab": {
          "base_uri": "https://localhost:8080/",
          "height": 382
        }
      },
      "execution_count": null,
      "outputs": [
        {
          "output_type": "stream",
          "name": "stdout",
          "text": [
            "                                              Actual                                          Predicted\n",
            "0       deaths\n",
            "85        4\n",
            "490       0\n",
            "96        ...  [[7.240174672489083], [3.8537735849056616], [7...\n"
          ]
        },
        {
          "output_type": "display_data",
          "data": {
            "image/png": "[encoded data removed]",
            "text/plain": [
              "<Figure size 432x288 with 1 Axes>"
            ]
          },
          "metadata": {
            "needs_background": "light"
          }
        }
      ]
    },
    {
      "cell_type": "code",
      "source": [
        "from sklearn import metrics\n",
        "print('Mean absolute error',metrics.mean_absolute_error(y_test,y_pred))\n",
        "print('Mean squared error',metrics.mean_squared_error(y_test,y_pred))\n",
        "print('Root mean squared error',np.sqrt(metrics.mean_squared_error(y_test,y_pred)))"
      ],
      "metadata": {
        "colab": {
          "base_uri": "https://localhost:8080/"
        },
        "id": "KVSeHuMD5Ol_",
        "outputId": "08b09a00-4fb0-438e-f1f2-cbbb25b35e3f"
      },
      "execution_count": null,
      "outputs": [
        {
          "output_type": "stream",
          "name": "stdout",
          "text": [
            "Mean absolute error 4.493063055640299\n",
            "Mean squared error 42.85817165651408\n",
            "Root mean squared error 6.54661528245811\n"
          ]
        }
      ]
    }
  ]
}